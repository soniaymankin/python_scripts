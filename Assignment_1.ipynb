{
 "cells": [
  {
   "cell_type": "code",
   "execution_count": 1,
   "id": "920ce1c5-bcaf-42db-9f41-7f238b31c798",
   "metadata": {},
   "outputs": [
    {
     "data": {
      "text/plain": [
       "'/Users/soniamankin/python_scripts'"
      ]
     },
     "execution_count": 1,
     "metadata": {},
     "output_type": "execute_result"
    }
   ],
   "source": [
    "%pwd"
   ]
  },
  {
   "cell_type": "code",
   "execution_count": 1,
   "id": "9d5504f5-b7a1-4852-94d9-efdf37929182",
   "metadata": {},
   "outputs": [],
   "source": [
    "import pandas as pd\n",
    "import matplotlib.pyplot as plt\n",
    "import seaborn as sns"
   ]
  },
  {
   "cell_type": "markdown",
   "id": "bc492082-6cee-4d98-9f2f-32f59b59df74",
   "metadata": {},
   "source": [
    "### Part A: Data Cleaning & Exploratory Analysis"
   ]
  },
  {
   "cell_type": "markdown",
   "id": "e644ce37-d913-4574-b6ad-09dec088daf1",
   "metadata": {},
   "source": [
    "1. Import full dataset using pandas"
   ]
  },
  {
   "cell_type": "code",
   "execution_count": 2,
   "id": "5f08ada2-5097-4e25-a43f-e7799e3e37fe",
   "metadata": {},
   "outputs": [
    {
     "name": "stderr",
     "output_type": "stream",
     "text": [
      "/Applications/anaconda3/lib/python3.9/site-packages/IPython/core/interactiveshell.py:3444: DtypeWarning: Columns (47,73) have mixed types.Specify dtype option on import or set low_memory=False.\n",
      "  exec(code_obj, self.user_global_ns, self.user_ns)\n"
     ]
    }
   ],
   "source": [
    "df_raw = pd.read_csv('~/Downloads/bottle.csv')"
   ]
  },
  {
   "cell_type": "markdown",
   "id": "f4579d4d-7545-4d05-b90f-627ea9ef19ed",
   "metadata": {},
   "source": [
    "    Verify that shape is: (864863,74)"
   ]
  },
  {
   "cell_type": "code",
   "execution_count": 3,
   "id": "a8cce888-b1eb-4cf2-aa46-e21d747783d9",
   "metadata": {},
   "outputs": [
    {
     "data": {
      "text/plain": [
       "(864863, 74)"
      ]
     },
     "execution_count": 3,
     "metadata": {},
     "output_type": "execute_result"
    }
   ],
   "source": [
    "df_raw.shape"
   ]
  },
  {
   "cell_type": "markdown",
   "id": "740f7057-67dc-4cdb-b532-d4f6c8fb5c64",
   "metadata": {},
   "source": [
    "2. Limit the dataset to the following columns [T_degC,SaInty,STheta] then remove all NaN and NA values"
   ]
  },
  {
   "cell_type": "code",
   "execution_count": 4,
   "id": "11efe5c3-bd85-489e-9b1a-ac93a8403a74",
   "metadata": {},
   "outputs": [],
   "source": [
    "cols = ['T_degC','Salnty','STheta']"
   ]
  },
  {
   "cell_type": "code",
   "execution_count": 5,
   "id": "dbaba2f7-d7f7-430b-ad48-d7abf7dc5fd5",
   "metadata": {},
   "outputs": [],
   "source": [
    "df_raw = df_raw[cols]"
   ]
  },
  {
   "cell_type": "code",
   "execution_count": 6,
   "id": "02da96ee-23b0-4e94-a2b7-0904bd3d937d",
   "metadata": {},
   "outputs": [],
   "source": [
    "df_raw.dropna(inplace=True)"
   ]
  },
  {
   "cell_type": "markdown",
   "id": "b85788f2-cb36-4c50-8c26-c4728a52b538",
   "metadata": {},
   "source": [
    "    Verify the shape is: (812174, 3)"
   ]
  },
  {
   "cell_type": "code",
   "execution_count": 7,
   "id": "d7fb7368-32fc-4914-9549-92b7562c735c",
   "metadata": {},
   "outputs": [
    {
     "data": {
      "text/plain": [
       "(812174, 3)"
      ]
     },
     "execution_count": 7,
     "metadata": {},
     "output_type": "execute_result"
    }
   ],
   "source": [
    "df_raw.shape"
   ]
  },
  {
   "cell_type": "markdown",
   "id": "6d02d163-fc36-4f62-bfef-5d997f43d628",
   "metadata": {},
   "source": [
    "3. Build the following plots using matplotlib: \n",
    "        a) Scatter: Salnty (salinity of water) vs T_degC"
   ]
  },
  {
   "cell_type": "code",
   "execution_count": 8,
   "id": "727d6575-c70a-48d7-b95c-e6481434007c",
   "metadata": {},
   "outputs": [
    {
     "data": {
      "text/plain": [
       "Text(0.5, 1.0, 'Salinity vs Temperature')"
      ]
     },
     "execution_count": 8,
     "metadata": {},
     "output_type": "execute_result"
    },
    {
     "data": {
      "image/png": "[encoded data removed]",
      "text/plain": [
       "<Figure size 432x288 with 1 Axes>"
      ]
     },
     "metadata": {
      "needs_background": "light"
     },
     "output_type": "display_data"
    }
   ],
   "source": [
    "plt.scatter(df_raw.Salnty,df_raw.T_degC)\n",
    "plt.xlabel('Salinity of water')\n",
    "plt.ylabel('Temperature in Celsius')\n",
    "plt.title('Salinity vs Temperature')"
   ]
  },
  {
   "cell_type": "markdown",
   "id": "8657b995-9cee-4d0d-9e88-31aaa9bbeab3",
   "metadata": {},
   "source": [
    "        b) Scatter: STheta (density of water) vs T_degC"
   ]
  },
  {
   "cell_type": "code",
   "execution_count": 9,
   "id": "500cd0fc-527a-49f7-b337-318fb28b3c4f",
   "metadata": {},
   "outputs": [
    {
     "data": {
      "text/plain": [
       "Text(0.5, 1.0, 'Density vs Temperature')"
      ]
     },
     "execution_count": 9,
     "metadata": {},
     "output_type": "execute_result"
    },
    {
     "data": {
      "image/png": "[encoded data removed]",
      "text/plain": [
       "<Figure size 432x288 with 1 Axes>"
      ]
     },
     "metadata": {
      "needs_background": "light"
     },
     "output_type": "display_data"
    }
   ],
   "source": [
    "plt.scatter(df_raw.STheta,df_raw.T_degC)\n",
    "plt.xlabel('Density of water')\n",
    "plt.ylabel('Temperature in Celsius')\n",
    "plt.title('Density vs Temperature')"
   ]
  },
  {
   "cell_type": "markdown",
   "id": "5e94f335-a525-4fcc-b92b-ba5de3a84d31",
   "metadata": {},
   "source": [
    "4. Build the following plot using seaborn:\n",
    "        a) Distribution of T_degC (hint: distplot will be helpful here) "
   ]
  },
  {
   "cell_type": "code",
   "execution_count": 10,
   "id": "77b7ba55-658f-41df-a733-0c70bf199589",
   "metadata": {},
   "outputs": [
    {
     "name": "stderr",
     "output_type": "stream",
     "text": [
      "/Applications/anaconda3/lib/python3.9/site-packages/seaborn/distributions.py:2619: FutureWarning: `distplot` is a deprecated function and will be removed in a future version. Please adapt your code to use either `displot` (a figure-level function with similar flexibility) or `histplot` (an axes-level function for histograms).\n",
      "  warnings.warn(msg, FutureWarning)\n"
     ]
    },
    {
     "data": {
      "text/plain": [
       "<AxesSubplot:xlabel='T_degC', ylabel='Density'>"
      ]
     },
     "execution_count": 10,
     "metadata": {},
     "output_type": "execute_result"
    },
    {
     "data": {
      "image/png": "[encoded data removed]",
      "text/plain": [
       "<Figure size 432x288 with 1 Axes>"
      ]
     },
     "metadata": {
      "needs_background": "light"
     },
     "output_type": "display_data"
    }
   ],
   "source": [
    "sns.distplot(df_raw.T_degC)"
   ]
  },
  {
   "cell_type": "markdown",
   "id": "a55ed8bb-6de3-4262-bc00-9829745e6ba8",
   "metadata": {},
   "source": [
    "5. Remove obvious outliers from step 3b"
   ]
  },
  {
   "cell_type": "code",
   "execution_count": 11,
   "id": "d873f995-fc70-4d2c-80aa-c6000d9fe65b",
   "metadata": {},
   "outputs": [
    {
     "name": "stderr",
     "output_type": "stream",
     "text": [
      "/Applications/anaconda3/lib/python3.9/site-packages/seaborn/distributions.py:2619: FutureWarning: `distplot` is a deprecated function and will be removed in a future version. Please adapt your code to use either `displot` (a figure-level function with similar flexibility) or `histplot` (an axes-level function for histograms).\n",
      "  warnings.warn(msg, FutureWarning)\n"
     ]
    },
    {
     "data": {
      "text/plain": [
       "<AxesSubplot:xlabel='STheta', ylabel='Density'>"
      ]
     },
     "execution_count": 11,
     "metadata": {},
     "output_type": "execute_result"
    },
    {
     "data": {
      "image/png": "[encoded data removed]",
      "text/plain": [
       "<Figure size 432x288 with 1 Axes>"
      ]
     },
     "metadata": {
      "needs_background": "light"
     },
     "output_type": "display_data"
    }
   ],
   "source": [
    "sns.distplot(df_raw.STheta)"
   ]
  },
  {
   "cell_type": "code",
   "execution_count": 12,
   "id": "b3e19598-3b2b-4192-a52b-4045e5646cf9",
   "metadata": {},
   "outputs": [
    {
     "name": "stderr",
     "output_type": "stream",
     "text": [
      "/Applications/anaconda3/lib/python3.9/site-packages/seaborn/distributions.py:2619: FutureWarning: `distplot` is a deprecated function and will be removed in a future version. Please adapt your code to use either `displot` (a figure-level function with similar flexibility) or `histplot` (an axes-level function for histograms).\n",
      "  warnings.warn(msg, FutureWarning)\n"
     ]
    },
    {
     "data": {
      "text/plain": [
       "<AxesSubplot:xlabel='STheta', ylabel='Density'>"
      ]
     },
     "execution_count": 12,
     "metadata": {},
     "output_type": "execute_result"
    },
    {
     "data": {
      "image/png": "[encoded data removed]",
      "text/plain": [
       "<Figure size 432x288 with 1 Axes>"
      ]
     },
     "metadata": {
      "needs_background": "light"
     },
     "output_type": "display_data"
    }
   ],
   "source": [
    "sns.distplot(df_raw[df_raw.STheta<200].STheta)"
   ]
  },
  {
   "cell_type": "code",
   "execution_count": 13,
   "id": "8c8557db-8c4f-49e8-89db-2188192697cb",
   "metadata": {},
   "outputs": [],
   "source": [
    "df_clean = df_raw[df_raw.STheta<200]"
   ]
  },
  {
   "cell_type": "markdown",
   "id": "e518de4e-4130-4470-b7ff-85375c6da228",
   "metadata": {},
   "source": [
    "    Shape for clean data will be: (812168, 3)\n"
   ]
  },
  {
   "cell_type": "code",
   "execution_count": 14,
   "id": "eef1541b-c750-4bd1-8b17-a650fc4b4401",
   "metadata": {},
   "outputs": [
    {
     "data": {
      "text/plain": [
       "(812168, 3)"
      ]
     },
     "execution_count": 14,
     "metadata": {},
     "output_type": "execute_result"
    }
   ],
   "source": [
    "df_clean.shape"
   ]
  },
  {
   "cell_type": "markdown",
   "id": "f67fd265-9834-456c-a8b0-825b73d34dd1",
   "metadata": {},
   "source": [
    "6. Plot 3b again – does it look better? Explain!\n"
   ]
  },
  {
   "cell_type": "code",
   "execution_count": 15,
   "id": "8f44870f-21be-43e0-9774-3cd0f8de5eb4",
   "metadata": {},
   "outputs": [
    {
     "data": {
      "text/plain": [
       "Text(0.5, 1.0, 'Density vs Temperature')"
      ]
     },
     "execution_count": 15,
     "metadata": {},
     "output_type": "execute_result"
    },
    {
     "data": {
      "image/png": "[encoded data removed]",
      "text/plain": [
       "<Figure size 432x288 with 1 Axes>"
      ]
     },
     "metadata": {
      "needs_background": "light"
     },
     "output_type": "display_data"
    }
   ],
   "source": [
    "plt.scatter(df_clean.STheta,df_clean.T_degC)\n",
    "plt.xlabel('Density of water')\n",
    "plt.ylabel('Temperature in Celsius')\n",
    "plt.title('Density vs Temperature')"
   ]
  },
  {
   "cell_type": "markdown",
   "id": "d0590a32-580a-406c-9456-256db7171aaa",
   "metadata": {},
   "source": [
    "The distribution is seen a lot more clearly here than before because we took out the outliers so there's a clear negative trend between density and temperature, before the trend was harder to picture because the outliers skewed the appearance of the scatterplot. "
   ]
  },
  {
   "cell_type": "markdown",
   "id": "85a49434-4bc5-45e4-8989-2176f39a133e",
   "metadata": {},
   "source": [
    "### Part B: Train & Test Split:"
   ]
  },
  {
   "cell_type": "code",
   "execution_count": 16,
   "id": "54c9c8f7-68a3-467b-bd39-f4bc48d29405",
   "metadata": {},
   "outputs": [],
   "source": [
    "from sklearn.model_selection import train_test_split"
   ]
  },
  {
   "cell_type": "markdown",
   "id": "71f18a15-77ed-4bcc-8b1d-8d1e0f6d7f6c",
   "metadata": {},
   "source": [
    "Our X matrix (features / independent variables) will be: [Salnty, STheta]"
   ]
  },
  {
   "cell_type": "code",
   "execution_count": 17,
   "id": "c1495892-d60a-43de-876a-11a27dfcf43c",
   "metadata": {},
   "outputs": [],
   "source": [
    "X = df_clean[['Salnty','STheta']]"
   ]
  },
  {
   "cell_type": "markdown",
   "id": "260a4b82-5e37-460f-841c-0e2bef161872",
   "metadata": {},
   "source": [
    "Our y matrix (target / dependent variable) will be: T_degC"
   ]
  },
  {
   "cell_type": "code",
   "execution_count": 19,
   "id": "648c9ba5-a40c-4405-b697-0d025ea0fbde",
   "metadata": {},
   "outputs": [],
   "source": [
    "y = df_clean['T_degC']"
   ]
  },
  {
   "cell_type": "markdown",
   "id": "34466b31-d633-488a-ad03-62977f26bf8a",
   "metadata": {},
   "source": [
    "Build out the following:\n",
    "- X_train\n",
    "- X_test\n",
    "- y_train\n",
    "- y_test\n",
    "\n",
    "Make sure to add a seed (called random_state in train_test_split) so your split is reproducible."
   ]
  },
  {
   "cell_type": "code",
   "execution_count": 20,
   "id": "ee226bf6-8c66-4884-b5a6-d047cddcc0cd",
   "metadata": {},
   "outputs": [],
   "source": [
    "X_train, X_test, y_train, y_test = train_test_split(X, y, test_size=0.33, random_state=42)"
   ]
  },
  {
   "cell_type": "markdown",
   "id": "3d87ec9b-79f3-47a8-ac84-11ff5c10c9b0",
   "metadata": {},
   "source": [
    "### Part C: Linear Regression Using Normal Equation - Coded In Python\n",
    "\n"
   ]
  },
  {
   "cell_type": "code",
   "execution_count": 21,
   "id": "84542a09-f784-4c1c-a7ee-eee0d4a3762f",
   "metadata": {},
   "outputs": [],
   "source": [
    "import numpy as np"
   ]
  },
  {
   "cell_type": "markdown",
   "id": "e6ac60ff-a1a2-45ae-9ce7-0ad67e896ac7",
   "metadata": {},
   "source": [
    "1. Build the normal equation using numpy & fit using your training data (X_train & y_train).\n",
    "    - Note: Make sure to include an intercept value of 1 for every observation in your X_train."
   ]
  },
  {
   "cell_type": "code",
   "execution_count": 30,
   "id": "51f8288b-d78c-4712-92e4-5548d7fb6b87",
   "metadata": {},
   "outputs": [],
   "source": [
    "X_b = np.c_[np.ones((len(X_train), 1)), X_train]  # add x0 = 1 to each instance\n",
    "theta_best = np.linalg.inv(X_b.T.dot(X_b)).dot(X_b.T).dot(y_train)"
   ]
  },
  {
   "cell_type": "markdown",
   "id": "94e99353-7bec-4535-b64f-f39ecfc08cc9",
   "metadata": {},
   "source": [
    "2. Print out the coefficients - we will need to compare these to the output in Part 4\n"
   ]
  },
  {
   "cell_type": "code",
   "execution_count": 32,
   "id": "57b8ac21-6be3-4db1-8ba8-6be02823ccdb",
   "metadata": {},
   "outputs": [
    {
     "data": {
      "text/plain": [
       "array([35.63567092,  3.11170178, -5.03898123])"
      ]
     },
     "execution_count": 32,
     "metadata": {},
     "output_type": "execute_result"
    }
   ],
   "source": [
    "theta_best"
   ]
  },
  {
   "cell_type": "markdown",
   "id": "3b502ac8-8512-44a2-bd02-dbe395c242f0",
   "metadata": {},
   "source": [
    "3. Predict T_degC for the test data using the fitted values in b.\n",
    "    - Make sure to include an intercept value of 1 for every observation in your X_test.\n",
    "     - Call predictions y_pred\n",
    "\n"
   ]
  },
  {
   "cell_type": "code",
   "execution_count": 38,
   "id": "b450a6b8-3d2e-4017-a16f-7c289892325f",
   "metadata": {},
   "outputs": [
    {
     "data": {
      "text/plain": [
       "array([ 7.88448234,  7.14977794,  5.22688748, ..., 17.98721791,\n",
       "       10.81274785, 10.65247044])"
      ]
     },
     "execution_count": 38,
     "metadata": {},
     "output_type": "execute_result"
    }
   ],
   "source": [
    "X_new_b = np.c_[np.ones((len(X_test), 1)), X_test]  # add x0 = 1 to each instance\n",
    "y_pred = X_new_b.dot(theta_best)\n",
    "y_pred"
   ]
  },
  {
   "cell_type": "markdown",
   "id": "134a2730-5fc5-4f2d-8ba0-d6881033778c",
   "metadata": {},
   "source": [
    "4. Calculate the following for the test data:\n",
    "    - mean squared error\n",
    "    - r-squared\n",
    "    - explained variance"
   ]
  },
  {
   "cell_type": "code",
   "execution_count": 40,
   "id": "b13d8fbd-6335-4312-8d85-cf3b855b8824",
   "metadata": {},
   "outputs": [],
   "source": [
    "import sklearn.metrics as sk"
   ]
  },
  {
   "cell_type": "code",
   "execution_count": 44,
   "id": "670b3429-e615-4207-beea-d209a32333ce",
   "metadata": {},
   "outputs": [
    {
     "name": "stdout",
     "output_type": "stream",
     "text": [
      "The mean squared error is: 0.23306805424965596\n"
     ]
    }
   ],
   "source": [
    "print(f'The mean squared error is: {sk.mean_squared_error(y_test,y_pred)}')"
   ]
  },
  {
   "cell_type": "code",
   "execution_count": 45,
   "id": "72539704-8470-43d4-a0fc-6625019a54a3",
   "metadata": {},
   "outputs": [
    {
     "name": "stdout",
     "output_type": "stream",
     "text": [
      "The r-squared is: 0.9869253631507664\n"
     ]
    }
   ],
   "source": [
    "print(f'The r-squared is: {sk.r2_score(y_test,y_pred)}')"
   ]
  },
  {
   "cell_type": "code",
   "execution_count": 46,
   "id": "092af42a-17fa-43c5-9de6-5cc7eea76fc2",
   "metadata": {},
   "outputs": [
    {
     "name": "stdout",
     "output_type": "stream",
     "text": [
      "The explained variance is: 0.9869253631545096\n"
     ]
    }
   ],
   "source": [
    "print(f'The explained variance is: {sk.explained_variance_score(y_test,y_pred)}')"
   ]
  },
  {
   "cell_type": "markdown",
   "id": "88418a71-b4a1-43e2-8bc4-e16fda020092",
   "metadata": {},
   "source": [
    "5. Create a scatterplot that shows actual versus predicted values for the T_degC."
   ]
  },
  {
   "cell_type": "code",
   "execution_count": 49,
   "id": "99a534b7-4807-45be-969c-c39ded9a09ca",
   "metadata": {},
   "outputs": [
    {
     "data": {
      "text/plain": [
       "Text(0.5, 1.0, 'Actual vs Predicted T_degC')"
      ]
     },
     "execution_count": 49,
     "metadata": {},
     "output_type": "execute_result"
    },
    {
     "data": {
      "image/png": "[encoded data removed]",
      "text/plain": [
       "<Figure size 432x288 with 1 Axes>"
      ]
     },
     "metadata": {
      "needs_background": "light"
     },
     "output_type": "display_data"
    }
   ],
   "source": [
    "plt.scatter(y_test,y_pred)\n",
    "plt.xlabel('Actual T_degC')\n",
    "plt.ylabel('Predicted T_degC')\n",
    "plt.title('Actual vs Predicted T_degC')"
   ]
  },
  {
   "cell_type": "markdown",
   "id": "4435daaf-c397-445b-861a-3e792a6138e4",
   "metadata": {},
   "source": [
    "### Part D: Using sklearn API\n",
    "\n"
   ]
  },
  {
   "cell_type": "markdown",
   "id": "47ec96ab-e4ab-43fe-9066-0812df37b97e",
   "metadata": {},
   "source": [
    "1. Create an instance of the LinearRegression class called \"lin_reg\". Fit lin_reg using X_train & y_train.\n",
    "    - Note: sklearn will automatically add the intercept term, so you do not need to do this here. "
   ]
  },
  {
   "cell_type": "code",
   "execution_count": 51,
   "id": "6093d4fc-0684-4514-9bb3-5688369921ba",
   "metadata": {},
   "outputs": [],
   "source": [
    "from sklearn import linear_model"
   ]
  },
  {
   "cell_type": "code",
   "execution_count": 52,
   "id": "f5cd5ed0-2efd-41e3-8819-3f1a9d23855a",
   "metadata": {},
   "outputs": [
    {
     "data": {
      "text/plain": [
       "LinearRegression()"
      ]
     },
     "execution_count": 52,
     "metadata": {},
     "output_type": "execute_result"
    }
   ],
   "source": [
    "reg = linear_model.LinearRegression()\n",
    "reg.fit(X_train,y_train)"
   ]
  },
  {
   "cell_type": "markdown",
   "id": "405346af-d7c1-46fb-98c4-5859a24f4821",
   "metadata": {},
   "source": [
    "2. Print out the coefficients (including the intercept)\n",
    "    - Note: These should be EXACTLY the same as what you found in Part C step 2\n"
   ]
  },
  {
   "cell_type": "code",
   "execution_count": 54,
   "id": "d34a3d23-3113-4a3c-a2fc-d35904d917c8",
   "metadata": {},
   "outputs": [
    {
     "name": "stdout",
     "output_type": "stream",
     "text": [
      "The coefficients are: [ 3.11170178 -5.03898123]\n"
     ]
    }
   ],
   "source": [
    "print(f'The coefficients are: {reg.coef_}')"
   ]
  },
  {
   "cell_type": "code",
   "execution_count": 55,
   "id": "d454e2e6-76ae-47a6-81ec-2d2dbe4c9b72",
   "metadata": {},
   "outputs": [
    {
     "name": "stdout",
     "output_type": "stream",
     "text": [
      "The intercept is: 35.635670918471234\n"
     ]
    }
   ],
   "source": [
    "print(f'The intercept is: {reg.intercept_}')"
   ]
  },
  {
   "cell_type": "markdown",
   "id": "4770c176-2742-418f-b958-694cbf619714",
   "metadata": {},
   "source": [
    "3. Predict T_degC for the test data using the fitted values in b.\n",
    "    - Call predictions y_pred_sklearn"
   ]
  },
  {
   "cell_type": "code",
   "execution_count": 57,
   "id": "e7af5125-eecc-40f1-9d1d-c8e878472026",
   "metadata": {},
   "outputs": [],
   "source": [
    "y_pred_sklearn = reg.predict(X_test)"
   ]
  },
  {
   "cell_type": "markdown",
   "id": "9148dbae-91f1-4ff8-9cdd-a0710611468f",
   "metadata": {},
   "source": [
    "4. Calculate the following for the test data:\n",
    "    - mean squared error\n",
    "    - r-squared\n",
    "    - explained variance"
   ]
  },
  {
   "cell_type": "code",
   "execution_count": 59,
   "id": "131c8bdc-6850-41c3-bf1c-e680f550d9d1",
   "metadata": {},
   "outputs": [
    {
     "name": "stdout",
     "output_type": "stream",
     "text": [
      "The mean squared error is: 0.23306805424959215\n"
     ]
    }
   ],
   "source": [
    "print(f'The mean squared error is: {sk.mean_squared_error(y_test,y_pred_sklearn)}')"
   ]
  },
  {
   "cell_type": "code",
   "execution_count": 60,
   "id": "713537bb-9026-4263-a6d9-1e674c1bc6f9",
   "metadata": {},
   "outputs": [
    {
     "name": "stdout",
     "output_type": "stream",
     "text": [
      "The r-squared is: 0.98692536315077\n"
     ]
    }
   ],
   "source": [
    "print(f'The r-squared is: {sk.r2_score(y_test,y_pred_sklearn)}')"
   ]
  },
  {
   "cell_type": "code",
   "execution_count": 61,
   "id": "06ad056f-abfb-4f73-9577-e05ca0bb9b73",
   "metadata": {},
   "outputs": [
    {
     "name": "stdout",
     "output_type": "stream",
     "text": [
      "The explained variance is: 0.9869253631545132\n"
     ]
    }
   ],
   "source": [
    "print(f'The explained variance is: {sk.explained_variance_score(y_test,y_pred_sklearn)}')"
   ]
  },
  {
   "cell_type": "markdown",
   "id": "4f410365-85c6-4a89-b543-e03e7c71e861",
   "metadata": {},
   "source": [
    "5. Create a scatterplot that shows actual versus predicted values for the T_degC."
   ]
  },
  {
   "cell_type": "code",
   "execution_count": 64,
   "id": "e526d348-945f-440a-8157-52a37238ec94",
   "metadata": {},
   "outputs": [
    {
     "data": {
      "text/plain": [
       "Text(0.5, 1.0, 'Actual vs Predicted T_degC for Sklearn')"
      ]
     },
     "execution_count": 64,
     "metadata": {},
     "output_type": "execute_result"
    },
    {
     "data": {
      "image/png": "[encoded data removed]",
      "text/plain": [
       "<Figure size 432x288 with 1 Axes>"
      ]
     },
     "metadata": {
      "needs_background": "light"
     },
     "output_type": "display_data"
    }
   ],
   "source": [
    "plt.scatter(y_test,y_pred_sklearn)\n",
    "plt.xlabel('Actual T_degC')\n",
    "plt.ylabel('Predicted T_degC')\n",
    "plt.title('Actual vs Predicted T_degC for Sklearn')"
   ]
  },
  {
   "cell_type": "markdown",
   "id": "3456dd28-1f41-45b5-b4c6-bb68ee4d32fb",
   "metadata": {},
   "source": [
    "### Part E: Conceptual Questions"
   ]
  },
  {
   "cell_type": "markdown",
   "id": "80b188b1-3fd9-4000-b408-39d947e14dcf",
   "metadata": {},
   "source": [
    "#### 1. Why is it important to have a test set?\n"
   ]
  },
  {
   "cell_type": "markdown",
   "id": "a4593758-3391-4bfc-ad34-117e29ea4b88",
   "metadata": {},
   "source": [
    "The test dataset serves as a benchmark to assess the model's ability to generalize to new data. By evaluating the model's performance on the test dataset, we can determine its accuracy, precision, recall, and other metrics.\n",
    "\n",
    "A test dataset can also help in tuning the hyperparameters of the model. Hyperparameters are the parameters of the model that cannot be learned from the data. By evaluating the model's performance on the test dataset with different hyperparameter settings, we can find the optimal values that yield the best results."
   ]
  },
  {
   "cell_type": "markdown",
   "id": "39541971-286b-4e2c-976f-e466cd8c02bf",
   "metadata": {},
   "source": [
    "#### 2. If the normal equation always provides a solution, when would we not want to use it?"
   ]
  },
  {
   "cell_type": "markdown",
   "id": "d389df7a-f128-475c-9157-107063dfeecf",
   "metadata": {},
   "source": [
    "We would not want to use the normal equation because it's not always the most efficient or accurate especially for datasets that have more than 10k features (according to Andrew Ng at Stanford University https://towardsdatascience.com/normal-equation-a-matrix-approach-to-linear-regression-4162ee170243#:~:text=Limitations%3A,for%20more%20than%2010K%20features)\n",
    "\n",
    "The normal equation is also only used to solve OLS linear relationships which is not always the case for the data's distribution. "
   ]
  },
  {
   "cell_type": "markdown",
   "id": "22aeaed0-bb4d-438d-9dfe-72bf7b275b96",
   "metadata": {},
   "source": [
    "#### 3. How might we improve the fit of our models from Part C & D?\n",
    "- Note: There are lots of possible answers to this section - just describe one in detail. \n"
   ]
  },
  {
   "cell_type": "markdown",
   "id": "ec752de5-80d4-499e-b37e-dcea0f7ba1d4",
   "metadata": {},
   "source": [
    "We can remove more outliers from our dataset in order to improve the fit of our model. If we look at the distribution of STheta at the beginning we removed the very high outliers but we can also remove some of the outliers from the lower end. I ran the model with additional filtered outliers and it boosted the R2 from: 0.98692536315077 to 0.9879271920322804."
   ]
  },
  {
   "cell_type": "code",
   "execution_count": 72,
   "id": "0f4c42f3-03ed-4a8a-8297-d57545d5e38a",
   "metadata": {},
   "outputs": [
    {
     "data": {
      "text/plain": [
       "<AxesSubplot:xlabel='STheta', ylabel='Count'>"
      ]
     },
     "execution_count": 72,
     "metadata": {},
     "output_type": "execute_result"
    },
    {
     "data": {
      "image/png": "[encoded data removed]",
      "text/plain": [
       "<Figure size 432x288 with 1 Axes>"
      ]
     },
     "metadata": {
      "needs_background": "light"
     },
     "output_type": "display_data"
    }
   ],
   "source": [
    "sns.histplot(df_clean[df_clean.STheta>23].STheta)"
   ]
  },
  {
   "cell_type": "code",
   "execution_count": 83,
   "id": "66594ff4-b0f4-4268-a4bb-c8812f7f2e89",
   "metadata": {},
   "outputs": [],
   "source": [
    "df_clean2 = df_clean[df_clean.STheta>23]\n",
    "X_1 = df_clean2[['Salnty','STheta']]\n",
    "y_1 = df_clean2['T_degC']\n",
    "X_train1, X_test1, y_train1, y_test1 = train_test_split(X_1, y_1, test_size=0.33, random_state=42)\n",
    "reg1 = linear_model.LinearRegression()\n",
    "reg1.fit(X_train1,y_train1)\n",
    "y_pred_sklearn1 = reg1.predict(X_test1)"
   ]
  },
  {
   "cell_type": "code",
   "execution_count": 84,
   "id": "a8ea6714-82a5-40f1-9875-1a58acdc0c2c",
   "metadata": {},
   "outputs": [
    {
     "name": "stdout",
     "output_type": "stream",
     "text": [
      "The new R2 is: 0.9879271920322804\n"
     ]
    }
   ],
   "source": [
    "print(f'The new R2 is: {sk.r2_score(y_test1,y_pred_sklearn1)}')"
   ]
  },
  {
   "cell_type": "markdown",
   "id": "6070e646-3727-4102-b157-49acd3f8feb3",
   "metadata": {
    "tags": []
   },
   "source": [
    "#### 4. As we move further into Machine Learning, we will need to continually consider the bias-variance tradeoff. Explain what bias is and what variance is in regards to the bias-variance tradeoff. "
   ]
  },
  {
   "cell_type": "markdown",
   "id": "7fac5e2f-5c21-4fc5-953e-f2edba846640",
   "metadata": {},
   "source": [
    "Bias refers to the difference between the predicted values and the actual values. Variance refers to the sensitivity of the model to small fluctuations in the training data. The tradeoff in bias and variance illustrates the balance between underfitting and overfitting a model (respectively). "
   ]
  },
  {
   "cell_type": "markdown",
   "id": "956d58e8-59c4-4d77-aa03-c3e62901dbdb",
   "metadata": {},
   "source": [
    "#### 5. In a linear regression model, how might we reduce bias?\n"
   ]
  },
  {
   "cell_type": "markdown",
   "id": "3ce49cd9-f27d-4e85-923e-d7fbf4dedffd",
   "metadata": {},
   "source": [
    "We can reduce bias by adding additional features. "
   ]
  },
  {
   "cell_type": "markdown",
   "id": "ac6d92f6-12bf-467b-9571-e3f9a2a59f33",
   "metadata": {},
   "source": [
    "#### 6. In a linear regression model, how might we reduce variance? "
   ]
  },
  {
   "cell_type": "markdown",
   "id": "a774536e-d904-466d-af6c-24a429edbc0c",
   "metadata": {},
   "source": [
    "We can reduce variance by adding more data so that your model is less prone to overfitting."
   ]
  },
  {
   "cell_type": "code",
   "execution_count": null,
   "id": "612172f1-3721-400b-b05c-bbffe43aac98",
   "metadata": {},
   "outputs": [],
   "source": []
  }
 ],
 "metadata": {
  "kernelspec": {
   "display_name": "Python 3 (ipykernel)",
   "language": "python",
   "name": "python3"
  },
  "language_info": {
   "codemirror_mode": {
    "name": "ipython",
    "version": 3
   },
   "file_extension": ".py",
   "mimetype": "text/x-python",
   "name": "python",
   "nbconvert_exporter": "python",
   "pygments_lexer": "ipython3",
   "version": "3.9.7"
  }
 },
 "nbformat": 4,
 "nbformat_minor": 5
}
